{
 "cells": [
  {
   "cell_type": "code",
   "execution_count": 2,
   "metadata": {},
   "outputs": [],
   "source": [
    "from symforce.expressions.unary_binary_expression_gen import UnaryBinaryExpressionGen\n",
    "import jax\n",
    "from symforce import codegen"
   ]
  },
  {
   "cell_type": "code",
   "execution_count": 3,
   "metadata": {},
   "outputs": [
    {
     "data": {
      "text/plain": [
       "9 + x4*((5 + x9)*(x2 + 2*(3 - x3)) + x6*(-2 - x4*sqrt(abs(x4)))*(x9 - 6*x2**4*x6**2/x8 + x6**2) + sqrt(abs(x1 + x3**2))) + sin(x9)**2"
      ]
     },
     "execution_count": 3,
     "metadata": {},
     "output_type": "execute_result"
    }
   ],
   "source": [
    "UnaryBinaryExpressionGen.default().build_expr(50)"
   ]
  },
  {
   "cell_type": "code",
   "execution_count": null,
   "metadata": {},
   "outputs": [],
   "source": [
    "symbols = sm.symbols('x:10')\n",
    "codegen.Codegen(inputs=Values(**{s.name: s for s in symbols}), outputs=)"
   ]
  }
 ],
 "metadata": {
  "kernelspec": {
   "display_name": "symforce-paper",
   "language": "python",
   "name": "symforce-paper"
  },
  "language_info": {
   "codemirror_mode": {
    "name": "ipython",
    "version": 3
   },
   "file_extension": ".py",
   "mimetype": "text/x-python",
   "name": "python",
   "nbconvert_exporter": "python",
   "pygments_lexer": "ipython3",
   "version": "3.8.0"
  }
 },
 "nbformat": 4,
 "nbformat_minor": 2
}
