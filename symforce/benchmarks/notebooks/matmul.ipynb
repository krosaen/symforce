{
 "cells": [
  {
   "cell_type": "code",
   "execution_count": 1,
   "metadata": {},
   "outputs": [],
   "source": [
    "import numpy as onp\n",
    "import jaxlie\n",
    "from jax import numpy as np\n",
    "import jax\n",
    "import time"
   ]
  },
  {
   "cell_type": "code",
   "execution_count": 2,
   "metadata": {},
   "outputs": [],
   "source": [
    "# Set to CPU\n",
    "# Comment out to use GPU/TPU\n",
    "# jax.config.update('jax_platform_name', 'cpu')"
   ]
  },
  {
   "cell_type": "code",
   "execution_count": 3,
   "metadata": {},
   "outputs": [
    {
     "data": {
      "text/plain": [
       "'gpu'"
      ]
     },
     "execution_count": 3,
     "metadata": {},
     "output_type": "execute_result"
    }
   ],
   "source": [
    "jax.lib.xla_bridge.get_backend().platform"
   ]
  },
  {
   "cell_type": "code",
   "execution_count": 4,
   "metadata": {},
   "outputs": [],
   "source": [
    "def time_func(f, key, calls):\n",
    "    start = time.perf_counter()\n",
    "    for _ in range(calls):\n",
    "        f(key)\n",
    "        _, key = jax.random.split(key)\n",
    "    end = time.perf_counter()\n",
    "    return (end - start) / calls"
   ]
  },
  {
   "cell_type": "code",
   "execution_count": 5,
   "metadata": {},
   "outputs": [
    {
     "name": "stdout",
     "output_type": "stream",
     "text": [
      "  10000000     0.085016  0.0093498   0.075667 7.5667e-09\n",
      "   1000000     0.012949  0.0027018   0.010247 1.0247e-08\n",
      "    100000      0.00903  0.0021562  0.0068738 6.8738e-08\n",
      "     10000    0.0089667  0.0021558  0.0068109 6.8109e-07\n",
      "      1000    0.0088506  0.0021513  0.0066993 6.6993e-06\n",
      "       100    0.0088216  0.0021411  0.0066804 6.6804e-05\n",
      "        10    0.0079862  0.0021016  0.0058846 0.00058846\n"
     ]
    }
   ],
   "source": [
    "key = jax.random.PRNGKey(42)\n",
    "\n",
    "for N in reversed([1e1, 1e2, 1e3, 1e4, 1e5, 1e6, 1e7]):\n",
    "    N = int(N)\n",
    "    mat_size = 7\n",
    "\n",
    "    A = jax.random.normal(key, (N, mat_size, mat_size))\n",
    "    _, key = jax.random.split(key)\n",
    "    B = jax.random.normal(key, (N, mat_size, mat_size))\n",
    "    _, key = jax.random.split(key)\n",
    "\n",
    "    np.matmul(A, B)\n",
    "    \n",
    "    def matmul(key):\n",
    "        A_new = A.at[0, 0, 0].set(jax.random.normal(key))\n",
    "        return np.matmul(A_new, B)\n",
    "                  \n",
    "    t = time_func(matmul, key, 10)    \n",
    "    \n",
    "    def notmul(key):\n",
    "        A_new = A.at[0, 0, 0].set(jax.random.normal(key))\n",
    "        return A_new\n",
    "                  \n",
    "    _, key = jax.random.split(key)\n",
    "    t2 = time_func(notmul, key, 10)\n",
    "    \n",
    "    print(f\"{N:>10}   {t:10.5} {t2:10.5} {t - t2:10.5} {(t - t2) / N:10.5}\")"
   ]
  },
  {
   "cell_type": "code",
   "execution_count": null,
   "metadata": {},
   "outputs": [],
   "source": []
  }
 ],
 "metadata": {
  "kernelspec": {
   "display_name": "symforce-paper",
   "language": "python",
   "name": "symforce-paper"
  },
  "language_info": {
   "codemirror_mode": {
    "name": "ipython",
    "version": 3
   },
   "file_extension": ".py",
   "mimetype": "text/x-python",
   "name": "python",
   "nbconvert_exporter": "python",
   "pygments_lexer": "ipython3",
   "version": "3.8.0"
  }
 },
 "nbformat": 4,
 "nbformat_minor": 2
}
